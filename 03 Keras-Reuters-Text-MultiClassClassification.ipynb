{
 "cells": [
  {
   "cell_type": "code",
   "execution_count": 6,
   "metadata": {},
   "outputs": [],
   "source": [
    "from IPython.core.interactiveshell import InteractiveShell\n",
    "InteractiveShell.ast_node_interactivity = \"all\""
   ]
  },
  {
   "cell_type": "code",
   "execution_count": 104,
   "metadata": {},
   "outputs": [],
   "source": [
    "from tensorflow.keras.datasets import reuters\n",
    "from tensorflow.keras.layers import Dense, Input, Activation, Flatten, Embedding, SpatialDropout1D, Dropout\n",
    "from tensorflow.keras.models import Sequential\n",
    "from tensorflow.keras.utils import to_categorical\n",
    "from tensorflow.keras.preprocessing.sequence import pad_sequences\n",
    "from sklearn.preprocessing import LabelEncoder\n",
    "import tensorflow as tf\n",
    "import numpy as np"
   ]
  },
  {
   "cell_type": "code",
   "execution_count": 105,
   "metadata": {},
   "outputs": [],
   "source": [
    "# Turn off scientific notation\n",
    "np.set_printoptions(precision=4)\n",
    "np.set_printoptions(suppress=True)"
   ]
  },
  {
   "cell_type": "code",
   "execution_count": 106,
   "metadata": {},
   "outputs": [],
   "source": [
    "RANDOM_SEED =4299\n",
    "np.random.seed(RANDOM_SEED)\n",
    "tf.random.set_seed(RANDOM_SEED)"
   ]
  },
  {
   "cell_type": "code",
   "execution_count": 107,
   "metadata": {},
   "outputs": [],
   "source": [
    "(train_data, train_labels), (test_data, test_labels) = reuters.load_data(num_words=10000)"
   ]
  },
  {
   "cell_type": "code",
   "execution_count": 108,
   "metadata": {},
   "outputs": [
    {
     "data": {
      "text/plain": [
       "8982"
      ]
     },
     "execution_count": 108,
     "metadata": {},
     "output_type": "execute_result"
    },
    {
     "data": {
      "text/plain": [
       "2246"
      ]
     },
     "execution_count": 108,
     "metadata": {},
     "output_type": "execute_result"
    }
   ],
   "source": [
    "len(train_data)\n",
    "len(test_data)"
   ]
  },
  {
   "cell_type": "code",
   "execution_count": 109,
   "metadata": {},
   "outputs": [],
   "source": [
    "word2idx = reuters.get_word_index()"
   ]
  },
  {
   "cell_type": "code",
   "execution_count": 110,
   "metadata": {},
   "outputs": [],
   "source": [
    "idx2word = dict([(value, key) for (key, value) in word2idx.items()])"
   ]
  },
  {
   "cell_type": "code",
   "execution_count": 111,
   "metadata": {},
   "outputs": [
    {
     "data": {
      "text/plain": [
       "'the'"
      ]
     },
     "execution_count": 111,
     "metadata": {},
     "output_type": "execute_result"
    }
   ],
   "source": [
    "idx2word[1]"
   ]
  },
  {
   "cell_type": "code",
   "execution_count": 112,
   "metadata": {},
   "outputs": [
    {
     "data": {
      "text/plain": [
       "'? ? ? said as a result of its december acquisition of space co it expects earnings per share in 1987 of 1 15 to 1 30 dlrs per share up from 70 cts in 1986 the company said pretax net should rise to nine to 10 mln dlrs from six mln dlrs in 1986 and rental operation revenues to 19 to 22 mln dlrs from 12 5 mln dlrs it said cash flow per share this year should be 2 50 to three dlrs reuter 3'"
      ]
     },
     "execution_count": 112,
     "metadata": {},
     "output_type": "execute_result"
    }
   ],
   "source": [
    "# Note that the indices are offset by 3 because 0, 1, and 2 are reserved indices for “padding,” “start of sequence,” and “unknown.”\n",
    "# I AM NOT SURE ABOUT THIS ?????? (this is from Francois Chalot Keras book)\n",
    "decoded_review = ' '.join([idx2word.get(i-3, '?') for i in train_data[0]])\n",
    "decoded_review"
   ]
  },
  {
   "cell_type": "code",
   "execution_count": 188,
   "metadata": {},
   "outputs": [
    {
     "name": "stdout",
     "output_type": "stream",
     "text": [
      "NUM CLASSES :  46\n"
     ]
    }
   ],
   "source": [
    "MAX_TEXT_LENGTH = 100\n",
    "PAD_TYPE = TRUNC_TYPE = 'post'\n",
    "NUM_CLASSES = len(np.unique(train_labels))\n",
    "print(\"NUM CLASSES : \", NUM_CLASSES)"
   ]
  },
  {
   "cell_type": "code",
   "execution_count": 114,
   "metadata": {},
   "outputs": [],
   "source": [
    "X_train = pad_sequences(train_data, maxlen=MAX_TEXT_LENGTH, padding=PAD_TYPE, truncating=TRUNC_TYPE, value=0)\n",
    "X_test = pad_sequences(test_data, maxlen=MAX_TEXT_LENGTH, padding=PAD_TYPE, truncating=TRUNC_TYPE, value=0)"
   ]
  },
  {
   "cell_type": "code",
   "execution_count": 115,
   "metadata": {},
   "outputs": [],
   "source": [
    "X_train = np.asarray(X_train).astype('float32')\n",
    "X_test = np.asarray(X_test).astype('float32')"
   ]
  },
  {
   "cell_type": "code",
   "execution_count": 116,
   "metadata": {},
   "outputs": [
    {
     "data": {
      "text/plain": [
       "array([   1.,    2.,    2.,    8.,   43.,   10.,  447.,    5.,   25.,\n",
       "        207.,  270.,    5., 3095.,  111.,   16.,  369.,  186.,   90.,\n",
       "         67.,    7.,   89.,    5.,   19.,  102.,    6.,   19.,  124.,\n",
       "         15.,   90.,   67.,   84.,   22.,  482.,   26.,    7.,   48.,\n",
       "          4.,   49.,    8.,  864.,   39.,  209.,  154.,    6.,  151.,\n",
       "          6.,   83.,   11.,   15.,   22.,  155.,   11.,   15.,    7.,\n",
       "         48.,    9., 4579., 1005.,  504.,    6.,  258.,    6.,  272.,\n",
       "         11.,   15.,   22.,  134.,   44.,   11.,   15.,   16.,    8.,\n",
       "        197., 1245.,   90.,   67.,   52.,   29.,  209.,   30.,   32.,\n",
       "        132.,    6.,  109.,   15.,   17.,   12.,    0.,    0.,    0.,\n",
       "          0.,    0.,    0.,    0.,    0.,    0.,    0.,    0.,    0.,\n",
       "          0.], dtype=float32)"
      ]
     },
     "execution_count": 116,
     "metadata": {},
     "output_type": "execute_result"
    }
   ],
   "source": [
    "X_train[0]"
   ]
  },
  {
   "cell_type": "code",
   "execution_count": 117,
   "metadata": {},
   "outputs": [],
   "source": [
    "y_train = np.asarray(train_labels).astype('float32')\n",
    "y_test = np.asarray(test_labels).astype('float32')"
   ]
  },
  {
   "cell_type": "code",
   "execution_count": 118,
   "metadata": {},
   "outputs": [
    {
     "data": {
      "text/plain": [
       "3.0"
      ]
     },
     "execution_count": 118,
     "metadata": {},
     "output_type": "execute_result"
    }
   ],
   "source": [
    "y_train[0]"
   ]
  },
  {
   "cell_type": "markdown",
   "metadata": {},
   "source": [
    "### Preparing Labels"
   ]
  },
  {
   "cell_type": "code",
   "execution_count": 119,
   "metadata": {},
   "outputs": [
    {
     "data": {
      "text/plain": [
       "LabelEncoder()"
      ]
     },
     "execution_count": 119,
     "metadata": {},
     "output_type": "execute_result"
    }
   ],
   "source": [
    "le = LabelEncoder()\n",
    "y_train = y_train.tolist()\n",
    "le.fit(y_train)"
   ]
  },
  {
   "cell_type": "code",
   "execution_count": 120,
   "metadata": {},
   "outputs": [],
   "source": [
    "def encode(le, labels):\n",
    "    enc = le.transform(labels)\n",
    "    return to_categorical(enc)"
   ]
  },
  {
   "cell_type": "code",
   "execution_count": 121,
   "metadata": {},
   "outputs": [],
   "source": [
    "def decode(le, one_hot):\n",
    "    dec = np.argmax(one_hot, axis=1)\n",
    "    return le.inverse_transform(dec)"
   ]
  },
  {
   "cell_type": "code",
   "execution_count": 122,
   "metadata": {},
   "outputs": [],
   "source": [
    "y_train = encode(le, y_train)\n",
    "y_test = encode(le, y_test)"
   ]
  },
  {
   "cell_type": "code",
   "execution_count": 123,
   "metadata": {},
   "outputs": [],
   "source": [
    "# to_categorical da ayni seyi yapar ama daha sonra decode etmek istedigimizde yukaridaki yondetme daha makul\n",
    "# y_train = to_categorical(y_train)"
   ]
  },
  {
   "cell_type": "code",
   "execution_count": 124,
   "metadata": {},
   "outputs": [
    {
     "data": {
      "text/plain": [
       "array([0., 0., 0., 1., 0., 0., 0., 0., 0., 0., 0., 0., 0., 0., 0., 0., 0.,\n",
       "       0., 0., 0., 0., 0., 0., 0., 0., 0., 0., 0., 0., 0., 0., 0., 0., 0.,\n",
       "       0., 0., 0., 0., 0., 0., 0., 0., 0., 0., 0., 0.], dtype=float32)"
      ]
     },
     "execution_count": 124,
     "metadata": {},
     "output_type": "execute_result"
    }
   ],
   "source": [
    "y_train[0]"
   ]
  },
  {
   "cell_type": "code",
   "execution_count": 125,
   "metadata": {},
   "outputs": [
    {
     "data": {
      "text/plain": [
       "(8982, 46)"
      ]
     },
     "execution_count": 125,
     "metadata": {},
     "output_type": "execute_result"
    }
   ],
   "source": [
    "y_train.shape"
   ]
  },
  {
   "cell_type": "markdown",
   "metadata": {},
   "source": [
    "### Model"
   ]
  },
  {
   "cell_type": "code",
   "execution_count": 126,
   "metadata": {},
   "outputs": [],
   "source": [
    "from sklearn.model_selection import train_test_split"
   ]
  },
  {
   "cell_type": "code",
   "execution_count": 127,
   "metadata": {},
   "outputs": [],
   "source": [
    "X_train, X_valid, y_train, y_valid = train_test_split(X_train, y_train, random_state=4299, test_size=0.2)"
   ]
  },
  {
   "cell_type": "code",
   "execution_count": 128,
   "metadata": {},
   "outputs": [
    {
     "data": {
      "text/plain": [
       "(7185, 100)"
      ]
     },
     "execution_count": 128,
     "metadata": {},
     "output_type": "execute_result"
    }
   ],
   "source": [
    "X_train.shape"
   ]
  },
  {
   "cell_type": "code",
   "execution_count": 189,
   "metadata": {},
   "outputs": [],
   "source": [
    "n_unique_words = 10000\n",
    "n_dim = 128\n",
    "drop_embed = 0.2"
   ]
  },
  {
   "cell_type": "code",
   "execution_count": 208,
   "metadata": {},
   "outputs": [],
   "source": [
    "model = Sequential()\n",
    "model.add(Embedding(n_unique_words, n_dim, input_length=MAX_TEXT_LENGTH))\n",
    "#model.add(SpatialDropout1D(0.5))\n",
    "model.add(Flatten())\n",
    "model.add(Dense(128, activation='relu'))\n",
    "model.add(Dropout(0.1))\n",
    "model.add(Dense(64, activation='relu'))\n",
    "#model.add(Dense(46, activation='tanh'))\n",
    "model.add(Dropout(0.5))\n",
    "model.add(Dense(46, activation='softmax'))"
   ]
  },
  {
   "cell_type": "code",
   "execution_count": 209,
   "metadata": {},
   "outputs": [
    {
     "name": "stdout",
     "output_type": "stream",
     "text": [
      "Model: \"sequential_16\"\n",
      "_________________________________________________________________\n",
      "Layer (type)                 Output Shape              Param #   \n",
      "=================================================================\n",
      "embedding_16 (Embedding)     (None, 100, 128)          1280000   \n",
      "_________________________________________________________________\n",
      "flatten_16 (Flatten)         (None, 12800)             0         \n",
      "_________________________________________________________________\n",
      "dense_50 (Dense)             (None, 128)               1638528   \n",
      "_________________________________________________________________\n",
      "dropout_31 (Dropout)         (None, 128)               0         \n",
      "_________________________________________________________________\n",
      "dense_51 (Dense)             (None, 64)                8256      \n",
      "_________________________________________________________________\n",
      "dropout_32 (Dropout)         (None, 64)                0         \n",
      "_________________________________________________________________\n",
      "dense_52 (Dense)             (None, 46)                2990      \n",
      "=================================================================\n",
      "Total params: 2,929,774\n",
      "Trainable params: 2,929,774\n",
      "Non-trainable params: 0\n",
      "_________________________________________________________________\n"
     ]
    }
   ],
   "source": [
    "model.summary()"
   ]
  },
  {
   "cell_type": "code",
   "execution_count": 210,
   "metadata": {},
   "outputs": [],
   "source": [
    "model.compile(loss='categorical_crossentropy', \n",
    "             optimizer='adam',\n",
    "             metrics=['accuracy'])"
   ]
  },
  {
   "cell_type": "code",
   "execution_count": 211,
   "metadata": {},
   "outputs": [
    {
     "name": "stdout",
     "output_type": "stream",
     "text": [
      "Train on 7185 samples, validate on 1797 samples\n",
      "Epoch 1/20\n",
      "7185/7185 [==============================] - 1s 135us/sample - loss: 3.1085 - accuracy: 0.3159 - val_loss: 2.4174 - val_accuracy: 0.3561\n",
      "Epoch 2/20\n",
      "7185/7185 [==============================] - 1s 87us/sample - loss: 2.3162 - accuracy: 0.4166 - val_loss: 2.0309 - val_accuracy: 0.4919\n",
      "Epoch 3/20\n",
      "7185/7185 [==============================] - 1s 81us/sample - loss: 1.9115 - accuracy: 0.5162 - val_loss: 1.8269 - val_accuracy: 0.5559\n",
      "Epoch 4/20\n",
      "7185/7185 [==============================] - 1s 82us/sample - loss: 1.6585 - accuracy: 0.5943 - val_loss: 1.6953 - val_accuracy: 0.6043\n",
      "Epoch 5/20\n",
      "7185/7185 [==============================] - 1s 81us/sample - loss: 1.4574 - accuracy: 0.6374 - val_loss: 1.5922 - val_accuracy: 0.6311\n",
      "Epoch 6/20\n",
      "7185/7185 [==============================] - 1s 82us/sample - loss: 1.2671 - accuracy: 0.6772 - val_loss: 1.5209 - val_accuracy: 0.6566\n",
      "Epoch 7/20\n",
      "7185/7185 [==============================] - 1s 83us/sample - loss: 1.0901 - accuracy: 0.7300 - val_loss: 1.4296 - val_accuracy: 0.6789\n",
      "Epoch 8/20\n",
      "7185/7185 [==============================] - 1s 94us/sample - loss: 0.9039 - accuracy: 0.7791 - val_loss: 1.3687 - val_accuracy: 0.6917\n",
      "Epoch 9/20\n",
      "7185/7185 [==============================] - 1s 83us/sample - loss: 0.7650 - accuracy: 0.8121 - val_loss: 1.3725 - val_accuracy: 0.7062\n",
      "Epoch 10/20\n",
      "7185/7185 [==============================] - 1s 84us/sample - loss: 0.6517 - accuracy: 0.8408 - val_loss: 1.3319 - val_accuracy: 0.7257\n",
      "Epoch 11/20\n",
      "7185/7185 [==============================] - 1s 88us/sample - loss: 0.5710 - accuracy: 0.8605 - val_loss: 1.3770 - val_accuracy: 0.7212\n",
      "Epoch 12/20\n",
      "7185/7185 [==============================] - 1s 90us/sample - loss: 0.4899 - accuracy: 0.8763 - val_loss: 1.3620 - val_accuracy: 0.7307\n",
      "Epoch 13/20\n",
      "7185/7185 [==============================] - 1s 86us/sample - loss: 0.4339 - accuracy: 0.8917 - val_loss: 1.3609 - val_accuracy: 0.7401\n",
      "Epoch 14/20\n",
      "7185/7185 [==============================] - 1s 92us/sample - loss: 0.3820 - accuracy: 0.9024 - val_loss: 1.4227 - val_accuracy: 0.7379\n",
      "Epoch 15/20\n",
      "7185/7185 [==============================] - 1s 88us/sample - loss: 0.3406 - accuracy: 0.9148 - val_loss: 1.3661 - val_accuracy: 0.7485\n",
      "Epoch 16/20\n",
      "7185/7185 [==============================] - 1s 88us/sample - loss: 0.3174 - accuracy: 0.9228 - val_loss: 1.4613 - val_accuracy: 0.7407\n",
      "Epoch 17/20\n",
      "7185/7185 [==============================] - 1s 88us/sample - loss: 0.2857 - accuracy: 0.9296 - val_loss: 1.4389 - val_accuracy: 0.7462\n",
      "Epoch 18/20\n",
      "7185/7185 [==============================] - 1s 89us/sample - loss: 0.2729 - accuracy: 0.9360 - val_loss: 1.4579 - val_accuracy: 0.7429\n",
      "Epoch 19/20\n",
      "7185/7185 [==============================] - 1s 86us/sample - loss: 0.2387 - accuracy: 0.9427 - val_loss: 1.4943 - val_accuracy: 0.7423\n",
      "Epoch 20/20\n",
      "7185/7185 [==============================] - 1s 92us/sample - loss: 0.2312 - accuracy: 0.9452 - val_loss: 1.4719 - val_accuracy: 0.7501\n"
     ]
    }
   ],
   "source": [
    "history = model.fit(X_train, y_train,\n",
    "                   epochs=20,\n",
    "                   batch_size=512,\n",
    "                   validation_data=(X_valid, y_valid))"
   ]
  },
  {
   "cell_type": "markdown",
   "metadata": {},
   "source": [
    "### Loss Plot"
   ]
  },
  {
   "cell_type": "code",
   "execution_count": 151,
   "metadata": {},
   "outputs": [
    {
     "data": {
      "image/png": "[encoded data removed]",
      "text/plain": [
       "<Figure size 432x288 with 1 Axes>"
      ]
     },
     "metadata": {
      "needs_background": "light"
     },
     "output_type": "display_data"
    }
   ],
   "source": [
    "import matplotlib.pyplot as plt\n",
    "hist_dict = history.history\n",
    "loss_values = hist_dict['loss']\n",
    "val_loss_values = hist_dict['val_loss']\n",
    "\n",
    "epochs = range(1, len(loss_values)+1)\n",
    "\n",
    "plt.plot(epochs, loss_values, 'bo', label='Training_Loss')\n",
    "plt.plot(epochs, val_loss_values, 'b', label='Validation_Loss')\n",
    "plt.title('Training vs Validation Loss')\n",
    "plt.xlabel('Epochs')\n",
    "plt.ylabel('Loss')\n",
    "plt.legend()\n",
    "plt.grid(True)\n",
    "plt.show();"
   ]
  },
  {
   "cell_type": "markdown",
   "metadata": {},
   "source": [
    "### Accuracy Plot"
   ]
  },
  {
   "cell_type": "code",
   "execution_count": 152,
   "metadata": {},
   "outputs": [
    {
     "data": {
      "image/png": "[encoded data removed]",
      "text/plain": [
       "<Figure size 432x288 with 1 Axes>"
      ]
     },
     "metadata": {
      "needs_background": "light"
     },
     "output_type": "display_data"
    }
   ],
   "source": [
    "plt.clf()\n",
    "acc_values = hist_dict['accuracy']\n",
    "val_acc_values = hist_dict['val_accuracy']\n",
    "\n",
    "epochs = range(1, len(acc_values)+1)\n",
    "\n",
    "plt.plot(epochs, acc_values, 'bo', label='Training_Acc')\n",
    "plt.plot(epochs, val_acc_values, 'b', label='Validation_Acc')\n",
    "plt.title('Training vs Validation Accuracy')\n",
    "plt.xlabel('Epochs')\n",
    "plt.ylabel('Accuracy')\n",
    "plt.legend()\n",
    "plt.grid(True)\n",
    "plt.show();"
   ]
  },
  {
   "cell_type": "markdown",
   "metadata": {},
   "source": [
    "### Test Results"
   ]
  },
  {
   "cell_type": "code",
   "execution_count": 153,
   "metadata": {},
   "outputs": [
    {
     "name": "stdout",
     "output_type": "stream",
     "text": [
      "2246/2246 [==============================] - 0s 64us/sample - loss: 1.6158 - accuracy: 0.7453\n"
     ]
    },
    {
     "data": {
      "text/plain": [
       "[1.6158410324545067, 0.745325]"
      ]
     },
     "execution_count": 153,
     "metadata": {},
     "output_type": "execute_result"
    }
   ],
   "source": [
    "model.evaluate(X_test, y_test)"
   ]
  },
  {
   "cell_type": "code",
   "execution_count": 198,
   "metadata": {},
   "outputs": [],
   "source": [
    "y_pred = model.predict(X_test)"
   ]
  },
  {
   "cell_type": "code",
   "execution_count": 199,
   "metadata": {},
   "outputs": [
    {
     "data": {
      "text/plain": [
       "30"
      ]
     },
     "execution_count": 199,
     "metadata": {},
     "output_type": "execute_result"
    }
   ],
   "source": [
    "np.argmax(y_pred[0])"
   ]
  }
 ],
 "metadata": {
  "kernelspec": {
   "display_name": "Python 3",
   "language": "python",
   "name": "python3"
  },
  "language_info": {
   "codemirror_mode": {
    "name": "ipython",
    "version": 3
   },
   "file_extension": ".py",
   "mimetype": "text/x-python",
   "name": "python",
   "nbconvert_exporter": "python",
   "pygments_lexer": "ipython3",
   "version": "3.7.4"
  },
  "toc": {
   "base_numbering": 1,
   "nav_menu": {},
   "number_sections": true,
   "sideBar": true,
   "skip_h1_title": false,
   "title_cell": "Table of Contents",
   "title_sidebar": "Contents",
   "toc_cell": false,
   "toc_position": {},
   "toc_section_display": true,
   "toc_window_display": false
  }
 },
 "nbformat": 4,
 "nbformat_minor": 2
}
